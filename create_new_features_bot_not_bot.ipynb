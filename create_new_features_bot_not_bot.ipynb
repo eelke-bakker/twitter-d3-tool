{
 "cells": [
  {
   "cell_type": "code",
   "execution_count": 29,
   "metadata": {},
   "outputs": [],
   "source": [
    "import numpy as np\n",
    "import pandas as pd\n",
    "import json\n",
    "from textblob import TextBlob\n",
    "import seaborn as sns\n",
    "import matplotlib.pyplot as plt\n",
    "%matplotlib inline"
   ]
  },
  {
   "cell_type": "code",
   "execution_count": 2,
   "metadata": {},
   "outputs": [],
   "source": [
    "#load tweets by bots\n",
    "fp='D:/twitter-d3-dashboard/bot/file.csv'\n",
    "bot_tweets=pd.read_csv(fp, low_memory=False)"
   ]
  },
  {
   "cell_type": "code",
   "execution_count": 3,
   "metadata": {},
   "outputs": [
    {
     "data": {
      "text/html": [
       "<div>\n",
       "<style scoped>\n",
       "    .dataframe tbody tr th:only-of-type {\n",
       "        vertical-align: middle;\n",
       "    }\n",
       "\n",
       "    .dataframe tbody tr th {\n",
       "        vertical-align: top;\n",
       "    }\n",
       "\n",
       "    .dataframe thead th {\n",
       "        text-align: right;\n",
       "    }\n",
       "</style>\n",
       "<table border=\"1\" class=\"dataframe\">\n",
       "  <thead>\n",
       "    <tr style=\"text-align: right;\">\n",
       "      <th></th>\n",
       "      <th>id</th>\n",
       "      <th>conversation_id</th>\n",
       "      <th>created_at</th>\n",
       "      <th>date</th>\n",
       "      <th>time</th>\n",
       "      <th>timezone</th>\n",
       "      <th>user_id</th>\n",
       "      <th>username</th>\n",
       "      <th>name</th>\n",
       "      <th>place</th>\n",
       "      <th>...</th>\n",
       "      <th>geo</th>\n",
       "      <th>source</th>\n",
       "      <th>user_rt_id</th>\n",
       "      <th>user_rt</th>\n",
       "      <th>retweet_id</th>\n",
       "      <th>reply_to</th>\n",
       "      <th>retweet_date</th>\n",
       "      <th>translate</th>\n",
       "      <th>trans_src</th>\n",
       "      <th>trans_dest</th>\n",
       "    </tr>\n",
       "  </thead>\n",
       "  <tbody>\n",
       "    <tr>\n",
       "      <th>0</th>\n",
       "      <td>1304343926829129729</td>\n",
       "      <td>1304343926829129729</td>\n",
       "      <td>1599814800000</td>\n",
       "      <td>2020-09-11</td>\n",
       "      <td>11:00:00</td>\n",
       "      <td>W. Europe Daylight Time</td>\n",
       "      <td>31098240</td>\n",
       "      <td>netwerk24</td>\n",
       "      <td>Netwerk24</td>\n",
       "      <td>NaN</td>\n",
       "      <td>...</td>\n",
       "      <td>NaN</td>\n",
       "      <td>NaN</td>\n",
       "      <td>NaN</td>\n",
       "      <td>NaN</td>\n",
       "      <td>NaN</td>\n",
       "      <td>[{'user_id': '31098240', 'username': 'Netwerk2...</td>\n",
       "      <td>NaN</td>\n",
       "      <td>NaN</td>\n",
       "      <td>NaN</td>\n",
       "      <td>NaN</td>\n",
       "    </tr>\n",
       "    <tr>\n",
       "      <th>1</th>\n",
       "      <td>1304341409743290370</td>\n",
       "      <td>1304341409743290370</td>\n",
       "      <td>1599814200000</td>\n",
       "      <td>2020-09-11</td>\n",
       "      <td>10:50:00</td>\n",
       "      <td>W. Europe Daylight Time</td>\n",
       "      <td>31098240</td>\n",
       "      <td>netwerk24</td>\n",
       "      <td>Netwerk24</td>\n",
       "      <td>NaN</td>\n",
       "      <td>...</td>\n",
       "      <td>NaN</td>\n",
       "      <td>NaN</td>\n",
       "      <td>NaN</td>\n",
       "      <td>NaN</td>\n",
       "      <td>NaN</td>\n",
       "      <td>[{'user_id': '31098240', 'username': 'Netwerk2...</td>\n",
       "      <td>NaN</td>\n",
       "      <td>NaN</td>\n",
       "      <td>NaN</td>\n",
       "      <td>NaN</td>\n",
       "    </tr>\n",
       "    <tr>\n",
       "      <th>2</th>\n",
       "      <td>1304337243339923457</td>\n",
       "      <td>1304337243339923457</td>\n",
       "      <td>1599813206000</td>\n",
       "      <td>2020-09-11</td>\n",
       "      <td>10:33:26</td>\n",
       "      <td>W. Europe Daylight Time</td>\n",
       "      <td>31098240</td>\n",
       "      <td>netwerk24</td>\n",
       "      <td>Netwerk24</td>\n",
       "      <td>NaN</td>\n",
       "      <td>...</td>\n",
       "      <td>NaN</td>\n",
       "      <td>NaN</td>\n",
       "      <td>NaN</td>\n",
       "      <td>NaN</td>\n",
       "      <td>NaN</td>\n",
       "      <td>[{'user_id': '31098240', 'username': 'Netwerk2...</td>\n",
       "      <td>NaN</td>\n",
       "      <td>NaN</td>\n",
       "      <td>NaN</td>\n",
       "      <td>NaN</td>\n",
       "    </tr>\n",
       "    <tr>\n",
       "      <th>3</th>\n",
       "      <td>1304329731484119041</td>\n",
       "      <td>1304329731484119041</td>\n",
       "      <td>1599811415000</td>\n",
       "      <td>2020-09-11</td>\n",
       "      <td>10:03:35</td>\n",
       "      <td>W. Europe Daylight Time</td>\n",
       "      <td>31098240</td>\n",
       "      <td>netwerk24</td>\n",
       "      <td>Netwerk24</td>\n",
       "      <td>NaN</td>\n",
       "      <td>...</td>\n",
       "      <td>NaN</td>\n",
       "      <td>NaN</td>\n",
       "      <td>NaN</td>\n",
       "      <td>NaN</td>\n",
       "      <td>NaN</td>\n",
       "      <td>[{'user_id': '31098240', 'username': 'Netwerk2...</td>\n",
       "      <td>NaN</td>\n",
       "      <td>NaN</td>\n",
       "      <td>NaN</td>\n",
       "      <td>NaN</td>\n",
       "    </tr>\n",
       "    <tr>\n",
       "      <th>4</th>\n",
       "      <td>1304326591036653569</td>\n",
       "      <td>1304326591036653569</td>\n",
       "      <td>1599810667000</td>\n",
       "      <td>2020-09-11</td>\n",
       "      <td>09:51:07</td>\n",
       "      <td>W. Europe Daylight Time</td>\n",
       "      <td>31098240</td>\n",
       "      <td>netwerk24</td>\n",
       "      <td>Netwerk24</td>\n",
       "      <td>NaN</td>\n",
       "      <td>...</td>\n",
       "      <td>NaN</td>\n",
       "      <td>NaN</td>\n",
       "      <td>NaN</td>\n",
       "      <td>NaN</td>\n",
       "      <td>NaN</td>\n",
       "      <td>[{'user_id': '31098240', 'username': 'Netwerk2...</td>\n",
       "      <td>NaN</td>\n",
       "      <td>NaN</td>\n",
       "      <td>NaN</td>\n",
       "      <td>NaN</td>\n",
       "    </tr>\n",
       "  </tbody>\n",
       "</table>\n",
       "<p>5 rows × 34 columns</p>\n",
       "</div>"
      ],
      "text/plain": [
       "                    id      conversation_id     created_at        date  \\\n",
       "0  1304343926829129729  1304343926829129729  1599814800000  2020-09-11   \n",
       "1  1304341409743290370  1304341409743290370  1599814200000  2020-09-11   \n",
       "2  1304337243339923457  1304337243339923457  1599813206000  2020-09-11   \n",
       "3  1304329731484119041  1304329731484119041  1599811415000  2020-09-11   \n",
       "4  1304326591036653569  1304326591036653569  1599810667000  2020-09-11   \n",
       "\n",
       "       time                 timezone   user_id   username       name place  \\\n",
       "0  11:00:00  W. Europe Daylight Time  31098240  netwerk24  Netwerk24   NaN   \n",
       "1  10:50:00  W. Europe Daylight Time  31098240  netwerk24  Netwerk24   NaN   \n",
       "2  10:33:26  W. Europe Daylight Time  31098240  netwerk24  Netwerk24   NaN   \n",
       "3  10:03:35  W. Europe Daylight Time  31098240  netwerk24  Netwerk24   NaN   \n",
       "4  09:51:07  W. Europe Daylight Time  31098240  netwerk24  Netwerk24   NaN   \n",
       "\n",
       "   ... geo source user_rt_id user_rt  retweet_id  \\\n",
       "0  ... NaN    NaN        NaN     NaN         NaN   \n",
       "1  ... NaN    NaN        NaN     NaN         NaN   \n",
       "2  ... NaN    NaN        NaN     NaN         NaN   \n",
       "3  ... NaN    NaN        NaN     NaN         NaN   \n",
       "4  ... NaN    NaN        NaN     NaN         NaN   \n",
       "\n",
       "                                            reply_to  retweet_date translate  \\\n",
       "0  [{'user_id': '31098240', 'username': 'Netwerk2...           NaN       NaN   \n",
       "1  [{'user_id': '31098240', 'username': 'Netwerk2...           NaN       NaN   \n",
       "2  [{'user_id': '31098240', 'username': 'Netwerk2...           NaN       NaN   \n",
       "3  [{'user_id': '31098240', 'username': 'Netwerk2...           NaN       NaN   \n",
       "4  [{'user_id': '31098240', 'username': 'Netwerk2...           NaN       NaN   \n",
       "\n",
       "  trans_src trans_dest  \n",
       "0       NaN        NaN  \n",
       "1       NaN        NaN  \n",
       "2       NaN        NaN  \n",
       "3       NaN        NaN  \n",
       "4       NaN        NaN  \n",
       "\n",
       "[5 rows x 34 columns]"
      ]
     },
     "execution_count": 3,
     "metadata": {},
     "output_type": "execute_result"
    }
   ],
   "source": [
    "bot_tweets.head()"
   ]
  },
  {
   "cell_type": "code",
   "execution_count": 70,
   "metadata": {},
   "outputs": [
    {
     "data": {
      "text/plain": [
       "500"
      ]
     },
     "execution_count": 70,
     "metadata": {},
     "output_type": "execute_result"
    }
   ],
   "source": [
    "len(bot_tweets[bot_tweets['user_id']==31098240])"
   ]
  },
  {
   "cell_type": "code",
   "execution_count": 67,
   "metadata": {},
   "outputs": [
    {
     "data": {
      "text/plain": [
       "872499"
      ]
     },
     "execution_count": 67,
     "metadata": {},
     "output_type": "execute_result"
    }
   ],
   "source": [
    "len(bot_tweets)"
   ]
  },
  {
   "cell_type": "code",
   "execution_count": 4,
   "metadata": {},
   "outputs": [
    {
     "data": {
      "text/plain": [
       "0    ‘Mens moet leefwyse verander’ @elisetempelhoff...\n",
       "1    Solidariteit en NWU in arbeidsdispuut https://...\n",
       "2    Helpende Hand reik hand om Siesta-oord in Bfn ...\n",
       "3    Nog hulp vir flukse matriekseun https://www.ne...\n",
       "4    Plase: Swart én wit is onder beleg https://www...\n",
       "Name: tweet, dtype: object"
      ]
     },
     "execution_count": 4,
     "metadata": {},
     "output_type": "execute_result"
    }
   ],
   "source": [
    "# Text analysis on these tweets \n",
    "bot_tweets['tweet'].head()"
   ]
  },
  {
   "cell_type": "code",
   "execution_count": 5,
   "metadata": {},
   "outputs": [],
   "source": [
    "tweets = bot_tweets[\"tweet\"].values"
   ]
  },
  {
   "cell_type": "code",
   "execution_count": 6,
   "metadata": {},
   "outputs": [],
   "source": [
    "def sentiment_calc(text):\n",
    "    try:\n",
    "        return TextBlob(text).sentiment\n",
    "    except:\n",
    "        return None"
   ]
  },
  {
   "cell_type": "code",
   "execution_count": 20,
   "metadata": {},
   "outputs": [],
   "source": [
    "sent_obj = bot_tweets['tweet'].apply(sentiment_calc)"
   ]
  },
  {
   "cell_type": "code",
   "execution_count": 21,
   "metadata": {},
   "outputs": [],
   "source": [
    "bot_tweets['polarity'], bot_tweets['subjectivity'] = zip(*sent_obj)"
   ]
  },
  {
   "cell_type": "code",
   "execution_count": 22,
   "metadata": {},
   "outputs": [],
   "source": [
    "conditions = [\n",
    "    bot_tweets['polarity'] > 0,\n",
    "    bot_tweets['polarity'] < 0,\n",
    "    bot_tweets['polarity'] == 0\n",
    "]\n",
    "\n",
    "outputs = ['positive', 'negative','no value']\n",
    "\n",
    "bot_tweets['sentiment'] = np.select(conditions, outputs)"
   ]
  },
  {
   "cell_type": "code",
   "execution_count": 24,
   "metadata": {},
   "outputs": [
    {
     "data": {
      "text/plain": [
       "0         0.0\n",
       "1         0.0\n",
       "2         0.0\n",
       "3         0.0\n",
       "4         0.0\n",
       "         ... \n",
       "872494    0.0\n",
       "872495    0.0\n",
       "872496    0.0\n",
       "872497    0.0\n",
       "872498    0.0\n",
       "Name: subjectivity, Length: 872499, dtype: float64"
      ]
     },
     "execution_count": 24,
     "metadata": {},
     "output_type": "execute_result"
    }
   ],
   "source": [
    "bot_tweets['subjectivity']"
   ]
  },
  {
   "cell_type": "code",
   "execution_count": 71,
   "metadata": {},
   "outputs": [
    {
     "data": {
      "text/html": [
       "<div>\n",
       "<style scoped>\n",
       "    .dataframe tbody tr th:only-of-type {\n",
       "        vertical-align: middle;\n",
       "    }\n",
       "\n",
       "    .dataframe tbody tr th {\n",
       "        vertical-align: top;\n",
       "    }\n",
       "\n",
       "    .dataframe thead th {\n",
       "        text-align: right;\n",
       "    }\n",
       "</style>\n",
       "<table border=\"1\" class=\"dataframe\">\n",
       "  <thead>\n",
       "    <tr style=\"text-align: right;\">\n",
       "      <th></th>\n",
       "      <th>id</th>\n",
       "      <th>conversation_id</th>\n",
       "      <th>created_at</th>\n",
       "      <th>date</th>\n",
       "      <th>time</th>\n",
       "      <th>timezone</th>\n",
       "      <th>user_id</th>\n",
       "      <th>username</th>\n",
       "      <th>name</th>\n",
       "      <th>place</th>\n",
       "      <th>...</th>\n",
       "      <th>user_rt</th>\n",
       "      <th>retweet_id</th>\n",
       "      <th>reply_to</th>\n",
       "      <th>retweet_date</th>\n",
       "      <th>translate</th>\n",
       "      <th>trans_src</th>\n",
       "      <th>trans_dest</th>\n",
       "      <th>polarity</th>\n",
       "      <th>subjectivity</th>\n",
       "      <th>sentiment</th>\n",
       "    </tr>\n",
       "  </thead>\n",
       "  <tbody>\n",
       "    <tr>\n",
       "      <th>0</th>\n",
       "      <td>1304343926829129729</td>\n",
       "      <td>1304343926829129729</td>\n",
       "      <td>1599814800000</td>\n",
       "      <td>2020-09-11</td>\n",
       "      <td>11:00:00</td>\n",
       "      <td>W. Europe Daylight Time</td>\n",
       "      <td>31098240</td>\n",
       "      <td>netwerk24</td>\n",
       "      <td>Netwerk24</td>\n",
       "      <td>NaN</td>\n",
       "      <td>...</td>\n",
       "      <td>NaN</td>\n",
       "      <td>NaN</td>\n",
       "      <td>[{'user_id': '31098240', 'username': 'Netwerk2...</td>\n",
       "      <td>NaN</td>\n",
       "      <td>NaN</td>\n",
       "      <td>NaN</td>\n",
       "      <td>NaN</td>\n",
       "      <td>0.0</td>\n",
       "      <td>0.0</td>\n",
       "      <td>no value</td>\n",
       "    </tr>\n",
       "    <tr>\n",
       "      <th>1</th>\n",
       "      <td>1304341409743290370</td>\n",
       "      <td>1304341409743290370</td>\n",
       "      <td>1599814200000</td>\n",
       "      <td>2020-09-11</td>\n",
       "      <td>10:50:00</td>\n",
       "      <td>W. Europe Daylight Time</td>\n",
       "      <td>31098240</td>\n",
       "      <td>netwerk24</td>\n",
       "      <td>Netwerk24</td>\n",
       "      <td>NaN</td>\n",
       "      <td>...</td>\n",
       "      <td>NaN</td>\n",
       "      <td>NaN</td>\n",
       "      <td>[{'user_id': '31098240', 'username': 'Netwerk2...</td>\n",
       "      <td>NaN</td>\n",
       "      <td>NaN</td>\n",
       "      <td>NaN</td>\n",
       "      <td>NaN</td>\n",
       "      <td>0.0</td>\n",
       "      <td>0.0</td>\n",
       "      <td>no value</td>\n",
       "    </tr>\n",
       "    <tr>\n",
       "      <th>2</th>\n",
       "      <td>1304337243339923457</td>\n",
       "      <td>1304337243339923457</td>\n",
       "      <td>1599813206000</td>\n",
       "      <td>2020-09-11</td>\n",
       "      <td>10:33:26</td>\n",
       "      <td>W. Europe Daylight Time</td>\n",
       "      <td>31098240</td>\n",
       "      <td>netwerk24</td>\n",
       "      <td>Netwerk24</td>\n",
       "      <td>NaN</td>\n",
       "      <td>...</td>\n",
       "      <td>NaN</td>\n",
       "      <td>NaN</td>\n",
       "      <td>[{'user_id': '31098240', 'username': 'Netwerk2...</td>\n",
       "      <td>NaN</td>\n",
       "      <td>NaN</td>\n",
       "      <td>NaN</td>\n",
       "      <td>NaN</td>\n",
       "      <td>0.0</td>\n",
       "      <td>0.0</td>\n",
       "      <td>no value</td>\n",
       "    </tr>\n",
       "    <tr>\n",
       "      <th>3</th>\n",
       "      <td>1304329731484119041</td>\n",
       "      <td>1304329731484119041</td>\n",
       "      <td>1599811415000</td>\n",
       "      <td>2020-09-11</td>\n",
       "      <td>10:03:35</td>\n",
       "      <td>W. Europe Daylight Time</td>\n",
       "      <td>31098240</td>\n",
       "      <td>netwerk24</td>\n",
       "      <td>Netwerk24</td>\n",
       "      <td>NaN</td>\n",
       "      <td>...</td>\n",
       "      <td>NaN</td>\n",
       "      <td>NaN</td>\n",
       "      <td>[{'user_id': '31098240', 'username': 'Netwerk2...</td>\n",
       "      <td>NaN</td>\n",
       "      <td>NaN</td>\n",
       "      <td>NaN</td>\n",
       "      <td>NaN</td>\n",
       "      <td>0.0</td>\n",
       "      <td>0.0</td>\n",
       "      <td>no value</td>\n",
       "    </tr>\n",
       "    <tr>\n",
       "      <th>4</th>\n",
       "      <td>1304326591036653569</td>\n",
       "      <td>1304326591036653569</td>\n",
       "      <td>1599810667000</td>\n",
       "      <td>2020-09-11</td>\n",
       "      <td>09:51:07</td>\n",
       "      <td>W. Europe Daylight Time</td>\n",
       "      <td>31098240</td>\n",
       "      <td>netwerk24</td>\n",
       "      <td>Netwerk24</td>\n",
       "      <td>NaN</td>\n",
       "      <td>...</td>\n",
       "      <td>NaN</td>\n",
       "      <td>NaN</td>\n",
       "      <td>[{'user_id': '31098240', 'username': 'Netwerk2...</td>\n",
       "      <td>NaN</td>\n",
       "      <td>NaN</td>\n",
       "      <td>NaN</td>\n",
       "      <td>NaN</td>\n",
       "      <td>0.0</td>\n",
       "      <td>0.0</td>\n",
       "      <td>no value</td>\n",
       "    </tr>\n",
       "  </tbody>\n",
       "</table>\n",
       "<p>5 rows × 37 columns</p>\n",
       "</div>"
      ],
      "text/plain": [
       "                    id      conversation_id     created_at        date  \\\n",
       "0  1304343926829129729  1304343926829129729  1599814800000  2020-09-11   \n",
       "1  1304341409743290370  1304341409743290370  1599814200000  2020-09-11   \n",
       "2  1304337243339923457  1304337243339923457  1599813206000  2020-09-11   \n",
       "3  1304329731484119041  1304329731484119041  1599811415000  2020-09-11   \n",
       "4  1304326591036653569  1304326591036653569  1599810667000  2020-09-11   \n",
       "\n",
       "       time                 timezone   user_id   username       name place  \\\n",
       "0  11:00:00  W. Europe Daylight Time  31098240  netwerk24  Netwerk24   NaN   \n",
       "1  10:50:00  W. Europe Daylight Time  31098240  netwerk24  Netwerk24   NaN   \n",
       "2  10:33:26  W. Europe Daylight Time  31098240  netwerk24  Netwerk24   NaN   \n",
       "3  10:03:35  W. Europe Daylight Time  31098240  netwerk24  Netwerk24   NaN   \n",
       "4  09:51:07  W. Europe Daylight Time  31098240  netwerk24  Netwerk24   NaN   \n",
       "\n",
       "   ... user_rt retweet_id                                           reply_to  \\\n",
       "0  ...     NaN        NaN  [{'user_id': '31098240', 'username': 'Netwerk2...   \n",
       "1  ...     NaN        NaN  [{'user_id': '31098240', 'username': 'Netwerk2...   \n",
       "2  ...     NaN        NaN  [{'user_id': '31098240', 'username': 'Netwerk2...   \n",
       "3  ...     NaN        NaN  [{'user_id': '31098240', 'username': 'Netwerk2...   \n",
       "4  ...     NaN        NaN  [{'user_id': '31098240', 'username': 'Netwerk2...   \n",
       "\n",
       "  retweet_date  translate  trans_src  trans_dest polarity subjectivity  \\\n",
       "0          NaN        NaN        NaN         NaN      0.0          0.0   \n",
       "1          NaN        NaN        NaN         NaN      0.0          0.0   \n",
       "2          NaN        NaN        NaN         NaN      0.0          0.0   \n",
       "3          NaN        NaN        NaN         NaN      0.0          0.0   \n",
       "4          NaN        NaN        NaN         NaN      0.0          0.0   \n",
       "\n",
       "  sentiment  \n",
       "0  no value  \n",
       "1  no value  \n",
       "2  no value  \n",
       "3  no value  \n",
       "4  no value  \n",
       "\n",
       "[5 rows x 37 columns]"
      ]
     },
     "execution_count": 71,
     "metadata": {},
     "output_type": "execute_result"
    }
   ],
   "source": [
    "bot_tweets.head()"
   ]
  },
  {
   "cell_type": "code",
   "execution_count": 30,
   "metadata": {},
   "outputs": [
    {
     "data": {
      "text/plain": [
       "(array([411837.,  29126.,  57273.,  48333.,  69481., 101794.,  51062.,\n",
       "         29231.,  18457.,  55905.]),\n",
       " array([0. , 0.1, 0.2, 0.3, 0.4, 0.5, 0.6, 0.7, 0.8, 0.9, 1. ]),\n",
       " <BarContainer object of 10 artists>)"
      ]
     },
     "execution_count": 30,
     "metadata": {},
     "output_type": "execute_result"
    },
    {
     "data": {
      "image/png": "[encoded data removed]",
      "text/plain": [
       "<Figure size 432x288 with 1 Axes>"
      ]
     },
     "metadata": {
      "needs_background": "light"
     },
     "output_type": "display_data"
    }
   ],
   "source": [
    "plt.hist(x=bot_tweets['subjectivity'])"
   ]
  },
  {
   "cell_type": "code",
   "execution_count": 31,
   "metadata": {},
   "outputs": [
    {
     "data": {
      "text/plain": [
       "(array([  2599.,   5346.,  15136.,  26628.,  60399., 559171.,  97942.,\n",
       "         60094.,  20609.,  24575.]),\n",
       " array([-1. , -0.8, -0.6, -0.4, -0.2,  0. ,  0.2,  0.4,  0.6,  0.8,  1. ]),\n",
       " <BarContainer object of 10 artists>)"
      ]
     },
     "execution_count": 31,
     "metadata": {},
     "output_type": "execute_result"
    },
    {
     "data": {
      "image/png": "[encoded data removed]",
      "text/plain": [
       "<Figure size 432x288 with 1 Axes>"
      ]
     },
     "metadata": {
      "needs_background": "light"
     },
     "output_type": "display_data"
    }
   ],
   "source": [
    "plt.hist(x=bot_tweets['polarity'])"
   ]
  },
  {
   "cell_type": "code",
   "execution_count": 33,
   "metadata": {},
   "outputs": [],
   "source": [
    "# add aggregation columns\n",
    "add_columns = pd.DataFrame(bot_tweets.groupby('user_id')['hashtags'].unique())\n",
    "add_columns['nr_unique_hashtags'] = bot_tweets.groupby('user_id')['hashtags'].nunique()\n",
    "add_columns['perc_has_place'] = bot_tweets.groupby('user_id')['place'].apply(lambda x: x.notnull().mean())\n",
    "add_columns['perc_has_mention'] = bot_tweets.groupby('user_id')['mentions'].apply(lambda x: x.notnull().mean())\n",
    "add_columns['perc_has_url'] = bot_tweets.groupby('user_id')['urls'].apply(lambda x: x.notnull().mean())\n",
    "add_columns['nr_unique_urls'] = bot_tweets.groupby('user_id')['urls'].nunique()\n",
    "add_columns['avg_nr_replies'] = bot_tweets.groupby('user_id')['replies_count'].mean()\n",
    "add_columns['avg_nr_retweets'] = bot_tweets.groupby('user_id')['retweets_count'].mean()\n",
    "add_columns['avg_nr_likes'] = bot_tweets.groupby('user_id')['likes_count'].mean()\n",
    "add_columns['avg_subjectivity'] = bot_tweets.groupby('user_id')['subjectivity'].mean()\n",
    "add_columns['stdev_subjectivity'] = bot_tweets.groupby('user_id')['subjectivity'].std()\n",
    "add_columns['avg_polarity'] = bot_tweets.groupby('user_id')['polarity'].mean()\n",
    "add_columns['stdev_polarity'] = bot_tweets.groupby('user_id')['polarity'].std()\n",
    "#add_columns['nr_negative'] = bot_tweets.groupby('user_id')['sentiment']\n",
    "\n",
    "#rename and add id column\n",
    "add_columns= add_columns.reset_index()\n",
    "add_columns.rename(columns={'user_id':'id'}, inplace=True)"
   ]
  },
  {
   "cell_type": "code",
   "execution_count": 44,
   "metadata": {},
   "outputs": [],
   "source": [
    "fp_bot_data ='C:/Users/20194136/Documents/Personal_Development/twitter-d3-tool/Data/bot_classification_data.csv'\n",
    "bot_data = pd.read_csv(fp_bot_data)"
   ]
  },
  {
   "cell_type": "code",
   "execution_count": 41,
   "metadata": {},
   "outputs": [
    {
     "data": {
      "text/html": [
       "<div>\n",
       "<style scoped>\n",
       "    .dataframe tbody tr th:only-of-type {\n",
       "        vertical-align: middle;\n",
       "    }\n",
       "\n",
       "    .dataframe tbody tr th {\n",
       "        vertical-align: top;\n",
       "    }\n",
       "\n",
       "    .dataframe thead th {\n",
       "        text-align: right;\n",
       "    }\n",
       "</style>\n",
       "<table border=\"1\" class=\"dataframe\">\n",
       "  <thead>\n",
       "    <tr style=\"text-align: right;\">\n",
       "      <th></th>\n",
       "      <th>Unnamed: 0</th>\n",
       "      <th>id</th>\n",
       "      <th>id_str</th>\n",
       "      <th>name</th>\n",
       "      <th>screen_name</th>\n",
       "      <th>location</th>\n",
       "      <th>description</th>\n",
       "      <th>url</th>\n",
       "      <th>protected</th>\n",
       "      <th>followers_count</th>\n",
       "      <th>...</th>\n",
       "      <th>has_extended_profile</th>\n",
       "      <th>default_profile</th>\n",
       "      <th>default_profile_image</th>\n",
       "      <th>following</th>\n",
       "      <th>follow_request_sent</th>\n",
       "      <th>notifications</th>\n",
       "      <th>translator_type</th>\n",
       "      <th>entities.url.urls</th>\n",
       "      <th>entities.description.urls</th>\n",
       "      <th>label</th>\n",
       "    </tr>\n",
       "  </thead>\n",
       "  <tbody>\n",
       "    <tr>\n",
       "      <th>0</th>\n",
       "      <td>0</td>\n",
       "      <td>31098240</td>\n",
       "      <td>31098240</td>\n",
       "      <td>Netwerk24</td>\n",
       "      <td>Netwerk24</td>\n",
       "      <td>Johannesburg</td>\n",
       "      <td>Al die nuus, politiek, sport, geldsake &amp; verma...</td>\n",
       "      <td>https://t.co/Y0QuSqwwOL</td>\n",
       "      <td>False</td>\n",
       "      <td>188419</td>\n",
       "      <td>...</td>\n",
       "      <td>False</td>\n",
       "      <td>False</td>\n",
       "      <td>False</td>\n",
       "      <td>False</td>\n",
       "      <td>False</td>\n",
       "      <td>False</td>\n",
       "      <td>none</td>\n",
       "      <td>[{'url': 'https://t.co/Y0QuSqwwOL', 'expanded_...</td>\n",
       "      <td>[]</td>\n",
       "      <td>human</td>\n",
       "    </tr>\n",
       "    <tr>\n",
       "      <th>1</th>\n",
       "      <td>1</td>\n",
       "      <td>6892002</td>\n",
       "      <td>6892002</td>\n",
       "      <td>WBIR Channel 10</td>\n",
       "      <td>wbir</td>\n",
       "      <td>Knoxville, TN</td>\n",
       "      <td>News, Sports, Weather &amp; Live At Five at 4:00 -...</td>\n",
       "      <td>NaN</td>\n",
       "      <td>False</td>\n",
       "      <td>180759</td>\n",
       "      <td>...</td>\n",
       "      <td>False</td>\n",
       "      <td>False</td>\n",
       "      <td>False</td>\n",
       "      <td>False</td>\n",
       "      <td>False</td>\n",
       "      <td>False</td>\n",
       "      <td>none</td>\n",
       "      <td>NaN</td>\n",
       "      <td>[]</td>\n",
       "      <td>human</td>\n",
       "    </tr>\n",
       "    <tr>\n",
       "      <th>2</th>\n",
       "      <td>2</td>\n",
       "      <td>20083388</td>\n",
       "      <td>20083388</td>\n",
       "      <td>Patricia Mazzei</td>\n",
       "      <td>PatriciaMazzei</td>\n",
       "      <td>Miami</td>\n",
       "      <td>@nytimes Miami bureau chief. Former @MiamiHera...</td>\n",
       "      <td>https://t.co/zGJ4T9rCnp</td>\n",
       "      <td>False</td>\n",
       "      <td>19311</td>\n",
       "      <td>...</td>\n",
       "      <td>False</td>\n",
       "      <td>False</td>\n",
       "      <td>False</td>\n",
       "      <td>False</td>\n",
       "      <td>False</td>\n",
       "      <td>False</td>\n",
       "      <td>none</td>\n",
       "      <td>[{'url': 'https://t.co/zGJ4T9rCnp', 'expanded_...</td>\n",
       "      <td>[]</td>\n",
       "      <td>human</td>\n",
       "    </tr>\n",
       "    <tr>\n",
       "      <th>3</th>\n",
       "      <td>3</td>\n",
       "      <td>385587235</td>\n",
       "      <td>385587235</td>\n",
       "      <td>Jeff Skowron</td>\n",
       "      <td>Jeffskowron</td>\n",
       "      <td>los angeles</td>\n",
       "      <td>Actor, writer, co-creator of @greganddonny and...</td>\n",
       "      <td>https://t.co/sLdAcQfZXV</td>\n",
       "      <td>False</td>\n",
       "      <td>398</td>\n",
       "      <td>...</td>\n",
       "      <td>False</td>\n",
       "      <td>False</td>\n",
       "      <td>False</td>\n",
       "      <td>False</td>\n",
       "      <td>False</td>\n",
       "      <td>False</td>\n",
       "      <td>none</td>\n",
       "      <td>[{'url': 'https://t.co/sLdAcQfZXV', 'expanded_...</td>\n",
       "      <td>[]</td>\n",
       "      <td>human</td>\n",
       "    </tr>\n",
       "    <tr>\n",
       "      <th>4</th>\n",
       "      <td>4</td>\n",
       "      <td>51240839</td>\n",
       "      <td>51240839</td>\n",
       "      <td>Heather Crawford</td>\n",
       "      <td>HeatherFCN</td>\n",
       "      <td>Jacksonville, FL</td>\n",
       "      <td>Wife, Mom, @FCN2Go Anchor @TSIChildren Mentor,...</td>\n",
       "      <td>https://t.co/eOw8ZfXBWc</td>\n",
       "      <td>False</td>\n",
       "      <td>7125</td>\n",
       "      <td>...</td>\n",
       "      <td>False</td>\n",
       "      <td>False</td>\n",
       "      <td>False</td>\n",
       "      <td>False</td>\n",
       "      <td>False</td>\n",
       "      <td>False</td>\n",
       "      <td>regular</td>\n",
       "      <td>[{'url': 'https://t.co/eOw8ZfXBWc', 'expanded_...</td>\n",
       "      <td>[]</td>\n",
       "      <td>human</td>\n",
       "    </tr>\n",
       "  </tbody>\n",
       "</table>\n",
       "<p>5 rows × 45 columns</p>\n",
       "</div>"
      ],
      "text/plain": [
       "   Unnamed: 0         id     id_str              name     screen_name  \\\n",
       "0           0   31098240   31098240         Netwerk24       Netwerk24   \n",
       "1           1    6892002    6892002   WBIR Channel 10            wbir   \n",
       "2           2   20083388   20083388   Patricia Mazzei  PatriciaMazzei   \n",
       "3           3  385587235  385587235      Jeff Skowron     Jeffskowron   \n",
       "4           4   51240839   51240839  Heather Crawford      HeatherFCN   \n",
       "\n",
       "           location                                        description  \\\n",
       "0      Johannesburg  Al die nuus, politiek, sport, geldsake & verma...   \n",
       "1     Knoxville, TN  News, Sports, Weather & Live At Five at 4:00 -...   \n",
       "2             Miami  @nytimes Miami bureau chief. Former @MiamiHera...   \n",
       "3       los angeles  Actor, writer, co-creator of @greganddonny and...   \n",
       "4  Jacksonville, FL  Wife, Mom, @FCN2Go Anchor @TSIChildren Mentor,...   \n",
       "\n",
       "                       url  protected  followers_count  ...  \\\n",
       "0  https://t.co/Y0QuSqwwOL      False           188419  ...   \n",
       "1                      NaN      False           180759  ...   \n",
       "2  https://t.co/zGJ4T9rCnp      False            19311  ...   \n",
       "3  https://t.co/sLdAcQfZXV      False              398  ...   \n",
       "4  https://t.co/eOw8ZfXBWc      False             7125  ...   \n",
       "\n",
       "   has_extended_profile  default_profile default_profile_image  following  \\\n",
       "0                 False            False                 False      False   \n",
       "1                 False            False                 False      False   \n",
       "2                 False            False                 False      False   \n",
       "3                 False            False                 False      False   \n",
       "4                 False            False                 False      False   \n",
       "\n",
       "   follow_request_sent  notifications  translator_type  \\\n",
       "0                False          False             none   \n",
       "1                False          False             none   \n",
       "2                False          False             none   \n",
       "3                False          False             none   \n",
       "4                False          False          regular   \n",
       "\n",
       "                                   entities.url.urls  \\\n",
       "0  [{'url': 'https://t.co/Y0QuSqwwOL', 'expanded_...   \n",
       "1                                                NaN   \n",
       "2  [{'url': 'https://t.co/zGJ4T9rCnp', 'expanded_...   \n",
       "3  [{'url': 'https://t.co/sLdAcQfZXV', 'expanded_...   \n",
       "4  [{'url': 'https://t.co/eOw8ZfXBWc', 'expanded_...   \n",
       "\n",
       "   entities.description.urls  label  \n",
       "0                         []  human  \n",
       "1                         []  human  \n",
       "2                         []  human  \n",
       "3                         []  human  \n",
       "4                         []  human  \n",
       "\n",
       "[5 rows x 45 columns]"
      ]
     },
     "execution_count": 41,
     "metadata": {},
     "output_type": "execute_result"
    }
   ],
   "source": [
    "bot_data.head()"
   ]
  },
  {
   "cell_type": "code",
   "execution_count": 45,
   "metadata": {},
   "outputs": [],
   "source": [
    "bot_data = pd.merge(bot_data, add_columns, on='id', how='inner')"
   ]
  },
  {
   "cell_type": "code",
   "execution_count": 46,
   "metadata": {},
   "outputs": [
    {
     "data": {
      "text/html": [
       "<div>\n",
       "<style scoped>\n",
       "    .dataframe tbody tr th:only-of-type {\n",
       "        vertical-align: middle;\n",
       "    }\n",
       "\n",
       "    .dataframe tbody tr th {\n",
       "        vertical-align: top;\n",
       "    }\n",
       "\n",
       "    .dataframe thead th {\n",
       "        text-align: right;\n",
       "    }\n",
       "</style>\n",
       "<table border=\"1\" class=\"dataframe\">\n",
       "  <thead>\n",
       "    <tr style=\"text-align: right;\">\n",
       "      <th></th>\n",
       "      <th>Unnamed: 0</th>\n",
       "      <th>id</th>\n",
       "      <th>id_str</th>\n",
       "      <th>name</th>\n",
       "      <th>screen_name</th>\n",
       "      <th>location</th>\n",
       "      <th>description</th>\n",
       "      <th>url</th>\n",
       "      <th>protected</th>\n",
       "      <th>followers_count</th>\n",
       "      <th>...</th>\n",
       "      <th>perc_has_mention</th>\n",
       "      <th>perc_has_url</th>\n",
       "      <th>nr_unique_urls</th>\n",
       "      <th>avg_nr_replies</th>\n",
       "      <th>avg_nr_retweets</th>\n",
       "      <th>avg_nr_likes</th>\n",
       "      <th>avg_subjectivity</th>\n",
       "      <th>stdev_subjectivity</th>\n",
       "      <th>avg_polarity</th>\n",
       "      <th>stdev_polarity</th>\n",
       "    </tr>\n",
       "  </thead>\n",
       "  <tbody>\n",
       "    <tr>\n",
       "      <th>0</th>\n",
       "      <td>0</td>\n",
       "      <td>31098240</td>\n",
       "      <td>31098240</td>\n",
       "      <td>Netwerk24</td>\n",
       "      <td>Netwerk24</td>\n",
       "      <td>Johannesburg</td>\n",
       "      <td>Al die nuus, politiek, sport, geldsake &amp; verma...</td>\n",
       "      <td>https://t.co/Y0QuSqwwOL</td>\n",
       "      <td>False</td>\n",
       "      <td>188419</td>\n",
       "      <td>...</td>\n",
       "      <td>1.0</td>\n",
       "      <td>1.0</td>\n",
       "      <td>473</td>\n",
       "      <td>0.148000</td>\n",
       "      <td>0.340000</td>\n",
       "      <td>0.62000</td>\n",
       "      <td>0.015876</td>\n",
       "      <td>0.108490</td>\n",
       "      <td>0.006639</td>\n",
       "      <td>0.064078</td>\n",
       "    </tr>\n",
       "    <tr>\n",
       "      <th>1</th>\n",
       "      <td>1</td>\n",
       "      <td>6892002</td>\n",
       "      <td>6892002</td>\n",
       "      <td>WBIR Channel 10</td>\n",
       "      <td>wbir</td>\n",
       "      <td>Knoxville, TN</td>\n",
       "      <td>News, Sports, Weather &amp; Live At Five at 4:00 -...</td>\n",
       "      <td>NaN</td>\n",
       "      <td>False</td>\n",
       "      <td>180759</td>\n",
       "      <td>...</td>\n",
       "      <td>1.0</td>\n",
       "      <td>1.0</td>\n",
       "      <td>495</td>\n",
       "      <td>0.600000</td>\n",
       "      <td>0.612000</td>\n",
       "      <td>2.76200</td>\n",
       "      <td>0.223115</td>\n",
       "      <td>0.291256</td>\n",
       "      <td>0.062583</td>\n",
       "      <td>0.205289</td>\n",
       "    </tr>\n",
       "    <tr>\n",
       "      <th>2</th>\n",
       "      <td>2</td>\n",
       "      <td>20083388</td>\n",
       "      <td>20083388</td>\n",
       "      <td>Patricia Mazzei</td>\n",
       "      <td>PatriciaMazzei</td>\n",
       "      <td>Miami</td>\n",
       "      <td>@nytimes Miami bureau chief. Former @MiamiHera...</td>\n",
       "      <td>https://t.co/zGJ4T9rCnp</td>\n",
       "      <td>False</td>\n",
       "      <td>19311</td>\n",
       "      <td>...</td>\n",
       "      <td>1.0</td>\n",
       "      <td>1.0</td>\n",
       "      <td>167</td>\n",
       "      <td>4.616000</td>\n",
       "      <td>29.282000</td>\n",
       "      <td>91.73000</td>\n",
       "      <td>0.280115</td>\n",
       "      <td>0.280331</td>\n",
       "      <td>0.074129</td>\n",
       "      <td>0.210632</td>\n",
       "    </tr>\n",
       "    <tr>\n",
       "      <th>3</th>\n",
       "      <td>3</td>\n",
       "      <td>385587235</td>\n",
       "      <td>385587235</td>\n",
       "      <td>Jeff Skowron</td>\n",
       "      <td>Jeffskowron</td>\n",
       "      <td>los angeles</td>\n",
       "      <td>Actor, writer, co-creator of @greganddonny and...</td>\n",
       "      <td>https://t.co/sLdAcQfZXV</td>\n",
       "      <td>False</td>\n",
       "      <td>398</td>\n",
       "      <td>...</td>\n",
       "      <td>1.0</td>\n",
       "      <td>1.0</td>\n",
       "      <td>56</td>\n",
       "      <td>0.503891</td>\n",
       "      <td>0.274319</td>\n",
       "      <td>7.86965</td>\n",
       "      <td>0.193463</td>\n",
       "      <td>0.317888</td>\n",
       "      <td>0.010909</td>\n",
       "      <td>0.245739</td>\n",
       "    </tr>\n",
       "    <tr>\n",
       "      <th>4</th>\n",
       "      <td>4</td>\n",
       "      <td>51240839</td>\n",
       "      <td>51240839</td>\n",
       "      <td>Heather Crawford</td>\n",
       "      <td>HeatherFCN</td>\n",
       "      <td>Jacksonville, FL</td>\n",
       "      <td>Wife, Mom, @FCN2Go Anchor @TSIChildren Mentor,...</td>\n",
       "      <td>https://t.co/eOw8ZfXBWc</td>\n",
       "      <td>False</td>\n",
       "      <td>7125</td>\n",
       "      <td>...</td>\n",
       "      <td>1.0</td>\n",
       "      <td>1.0</td>\n",
       "      <td>287</td>\n",
       "      <td>1.140000</td>\n",
       "      <td>2.548000</td>\n",
       "      <td>11.42800</td>\n",
       "      <td>0.317934</td>\n",
       "      <td>0.289029</td>\n",
       "      <td>0.135225</td>\n",
       "      <td>0.237199</td>\n",
       "    </tr>\n",
       "  </tbody>\n",
       "</table>\n",
       "<p>5 rows × 58 columns</p>\n",
       "</div>"
      ],
      "text/plain": [
       "   Unnamed: 0         id     id_str              name     screen_name  \\\n",
       "0           0   31098240   31098240         Netwerk24       Netwerk24   \n",
       "1           1    6892002    6892002   WBIR Channel 10            wbir   \n",
       "2           2   20083388   20083388   Patricia Mazzei  PatriciaMazzei   \n",
       "3           3  385587235  385587235      Jeff Skowron     Jeffskowron   \n",
       "4           4   51240839   51240839  Heather Crawford      HeatherFCN   \n",
       "\n",
       "           location                                        description  \\\n",
       "0      Johannesburg  Al die nuus, politiek, sport, geldsake & verma...   \n",
       "1     Knoxville, TN  News, Sports, Weather & Live At Five at 4:00 -...   \n",
       "2             Miami  @nytimes Miami bureau chief. Former @MiamiHera...   \n",
       "3       los angeles  Actor, writer, co-creator of @greganddonny and...   \n",
       "4  Jacksonville, FL  Wife, Mom, @FCN2Go Anchor @TSIChildren Mentor,...   \n",
       "\n",
       "                       url  protected  followers_count  ...  perc_has_mention  \\\n",
       "0  https://t.co/Y0QuSqwwOL      False           188419  ...               1.0   \n",
       "1                      NaN      False           180759  ...               1.0   \n",
       "2  https://t.co/zGJ4T9rCnp      False            19311  ...               1.0   \n",
       "3  https://t.co/sLdAcQfZXV      False              398  ...               1.0   \n",
       "4  https://t.co/eOw8ZfXBWc      False             7125  ...               1.0   \n",
       "\n",
       "   perc_has_url nr_unique_urls  avg_nr_replies  avg_nr_retweets  avg_nr_likes  \\\n",
       "0           1.0            473        0.148000         0.340000       0.62000   \n",
       "1           1.0            495        0.600000         0.612000       2.76200   \n",
       "2           1.0            167        4.616000        29.282000      91.73000   \n",
       "3           1.0             56        0.503891         0.274319       7.86965   \n",
       "4           1.0            287        1.140000         2.548000      11.42800   \n",
       "\n",
       "   avg_subjectivity  stdev_subjectivity  avg_polarity stdev_polarity  \n",
       "0          0.015876            0.108490      0.006639       0.064078  \n",
       "1          0.223115            0.291256      0.062583       0.205289  \n",
       "2          0.280115            0.280331      0.074129       0.210632  \n",
       "3          0.193463            0.317888      0.010909       0.245739  \n",
       "4          0.317934            0.289029      0.135225       0.237199  \n",
       "\n",
       "[5 rows x 58 columns]"
      ]
     },
     "execution_count": 46,
     "metadata": {},
     "output_type": "execute_result"
    }
   ],
   "source": [
    "bot_data.head()"
   ]
  },
  {
   "cell_type": "code",
   "execution_count": 68,
   "metadata": {},
   "outputs": [
    {
     "data": {
      "text/plain": [
       "1839"
      ]
     },
     "execution_count": 68,
     "metadata": {},
     "output_type": "execute_result"
    }
   ],
   "source": [
    "len(bot_data)"
   ]
  },
  {
   "cell_type": "code",
   "execution_count": 74,
   "metadata": {},
   "outputs": [
    {
     "data": {
      "text/plain": [
       "<AxesSubplot:xlabel='avg_nr_replies', ylabel='stdev_polarity'>"
      ]
     },
     "execution_count": 74,
     "metadata": {},
     "output_type": "execute_result"
    },
    {
     "data": {
      "image/png": "[encoded data removed]",
      "text/plain": [
       "<Figure size 864x864 with 1 Axes>"
      ]
     },
     "metadata": {
      "needs_background": "light"
     },
     "output_type": "display_data"
    }
   ],
   "source": [
    "from matplotlib import pyplot\n",
    "fig, ax = pyplot.subplots(figsize=(12,12)) \n",
    "sns.scatterplot(data=bot_data, x=\"avg_nr_replies\", y=\"stdev_polarity\", hue=bot_data[\"label\"].tolist(), alpha=0.5)"
   ]
  },
  {
   "cell_type": "code",
   "execution_count": 57,
   "metadata": {},
   "outputs": [],
   "source": [
    "from sklearn.tree import DecisionTreeClassifier # Import Decision Tree Classifier\n",
    "from sklearn.model_selection import train_test_split # Import train_test_split function\n",
    "from sklearn import metrics #Import scikit-learn metrics module for accuracy calculation"
   ]
  },
  {
   "cell_type": "code",
   "execution_count": 90,
   "metadata": {},
   "outputs": [],
   "source": [
    "feature_cols = ['followers_count', 'friends_count', 'listed_count','favourites_count','statuses_count','default_profile','default_profile_image','nr_unique_hashtags','perc_has_place','perc_has_mention','perc_has_url','nr_unique_urls', 'avg_polarity','avg_subjectivity','stdev_polarity' ]\n",
    "X = bot_data[feature_cols] # Features\n",
    "y = bot_data.label # Target variable"
   ]
  },
  {
   "cell_type": "code",
   "execution_count": 91,
   "metadata": {},
   "outputs": [],
   "source": [
    "X_train, X_test, y_train, y_test = train_test_split(X, y, test_size=0.3, random_state=1) # 70% training and 30% test"
   ]
  },
  {
   "cell_type": "code",
   "execution_count": 92,
   "metadata": {},
   "outputs": [],
   "source": [
    "clf = DecisionTreeClassifier()\n",
    "clf = clf.fit(X_train,y_train)\n",
    "y_pred = clf.predict(X_test)"
   ]
  },
  {
   "cell_type": "code",
   "execution_count": 93,
   "metadata": {},
   "outputs": [
    {
     "name": "stdout",
     "output_type": "stream",
     "text": [
      "Accuracy: 0.9420289855072463\n"
     ]
    }
   ],
   "source": [
    "print(\"Accuracy:\",metrics.accuracy_score(y_test, y_pred))"
   ]
  },
  {
   "cell_type": "code",
   "execution_count": 94,
   "metadata": {},
   "outputs": [
    {
     "data": {
      "text/plain": [
       "array([[102,  17],\n",
       "       [ 15, 418]], dtype=int64)"
      ]
     },
     "execution_count": 94,
     "metadata": {},
     "output_type": "execute_result"
    }
   ],
   "source": [
    "metrics.confusion_matrix(y_test, y_pred)"
   ]
  },
  {
   "cell_type": "code",
   "execution_count": 95,
   "metadata": {},
   "outputs": [
    {
     "data": {
      "text/plain": [
       "array([0.04431937, 0.18286306, 0.03049047, 0.03275692, 0.03671557,\n",
       "       0.        , 0.        , 0.03166276, 0.        , 0.        ,\n",
       "       0.        , 0.61119698, 0.00951243, 0.02048245, 0.        ])"
      ]
     },
     "execution_count": 95,
     "metadata": {},
     "output_type": "execute_result"
    }
   ],
   "source": [
    "clf.feature_importances_"
   ]
  },
  {
   "cell_type": "code",
   "execution_count": null,
   "metadata": {},
   "outputs": [],
   "source": [
    "X.head()"
   ]
  }
 ],
 "metadata": {
  "kernelspec": {
   "display_name": "Python 3",
   "language": "python",
   "name": "python3"
  },
  "language_info": {
   "codemirror_mode": {
    "name": "ipython",
    "version": 3
   },
   "file_extension": ".py",
   "mimetype": "text/x-python",
   "name": "python",
   "nbconvert_exporter": "python",
   "pygments_lexer": "ipython3",
   "version": "3.6.10"
  }
 },
 "nbformat": 4,
 "nbformat_minor": 4
}
